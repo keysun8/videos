{
  "cells": [
    {
      "cell_type": "markdown",
      "metadata": {
        "id": "view-in-github",
        "colab_type": "text"
      },
      "source": [
        "<a href=\"https://colab.research.google.com/github/keysun8/videos/blob/main/yt_chatbot.ipynb\" target=\"_parent\"><img src=\"https://colab.research.google.com/assets/colab-badge.svg\" alt=\"Open In Colab\"/></a>"
      ]
    },
    {
      "cell_type": "code",
      "execution_count": null,
      "metadata": {
        "id": "CNsBsbUBBg5B"
      },
      "outputs": [],
      "source": [
        "import os\n",
        "os.environ[\"OPENAI_API_KEY\"] ="
      ]
    },
    {
      "cell_type": "code",
      "execution_count": null,
      "metadata": {
        "id": "1fwKqhc-COFI"
      },
      "outputs": [],
      "source": [
        "!pip install -q youtube-transcript-api langchain-community langchain-openai \\\n",
        "               faiss-cpu tiktoken python-dotenv"
      ]
    },
    {
      "cell_type": "code",
      "execution_count": null,
      "metadata": {
        "colab": {
          "base_uri": "https://localhost:8080/"
        },
        "id": "FKqhwbzUCSTe",
        "outputId": "7fc70817-af11-45ab-c68d-d04e1f056e5e"
      },
      "outputs": [
        {
          "name": "stdout",
          "output_type": "stream",
          "text": [
            "Requirement already satisfied: pinecone-client in /usr/local/lib/python3.11/dist-packages (6.0.0)\n",
            "Requirement already satisfied: certifi>=2019.11.17 in /usr/local/lib/python3.11/dist-packages (from pinecone-client) (2025.4.26)\n",
            "Requirement already satisfied: pinecone-plugin-interface<0.0.8,>=0.0.7 in /usr/local/lib/python3.11/dist-packages (from pinecone-client) (0.0.7)\n",
            "Requirement already satisfied: python-dateutil>=2.5.3 in /usr/local/lib/python3.11/dist-packages (from pinecone-client) (2.9.0.post0)\n",
            "Requirement already satisfied: typing-extensions>=3.7.4 in /usr/local/lib/python3.11/dist-packages (from pinecone-client) (4.13.2)\n",
            "Requirement already satisfied: urllib3>=1.26.0 in /usr/local/lib/python3.11/dist-packages (from pinecone-client) (2.4.0)\n",
            "Requirement already satisfied: six>=1.5 in /usr/local/lib/python3.11/dist-packages (from python-dateutil>=2.5.3->pinecone-client) (1.17.0)\n"
          ]
        }
      ],
      "source": [
        "pip install pinecone-client"
      ]
    },
    {
      "cell_type": "code",
      "execution_count": null,
      "metadata": {
        "id": "Oww73lLcCg63"
      },
      "outputs": [],
      "source": [
        "from youtube_transcript_api import YouTubeTranscriptApi, TranscriptsDisabled\n",
        "from langchain.text_splitter import RecursiveCharacterTextSplitter\n",
        "from langchain_openai import OpenAIEmbeddings, ChatOpenAI\n",
        "from langchain_community.vectorstores import FAISS\n",
        "from langchain_core.prompts import PromptTemplate"
      ]
    },
    {
      "cell_type": "code",
      "execution_count": null,
      "metadata": {
        "id": "ZE1dJ5ANConB"
      },
      "outputs": [],
      "source": [
        "llm = ChatOpenAI()"
      ]
    },
    {
      "cell_type": "code",
      "execution_count": null,
      "metadata": {
        "colab": {
          "base_uri": "https://localhost:8080/"
        },
        "id": "Knhwo4CMCsdk",
        "outputId": "bb2b9707-315a-4cb6-bfeb-92d027f1451d"
      },
      "outputs": [
        {
          "data": {
            "text/plain": [
              "AIMessage(content='Demis Hassabis is a British artificial intelligence researcher, neuroscientist, and entrepreneur. He is the co-founder and CEO of DeepMind, a London-based artificial intelligence research company that was acquired by Google in 2014. Hassabis has a background in computer science, neuroscience, and artificial intelligence, and has made significant contributions to the field of AI research.', additional_kwargs={'refusal': None}, response_metadata={'token_usage': {'completion_tokens': 74, 'prompt_tokens': 15, 'total_tokens': 89, 'completion_tokens_details': {'accepted_prediction_tokens': 0, 'audio_tokens': 0, 'reasoning_tokens': 0, 'rejected_prediction_tokens': 0}, 'prompt_tokens_details': {'audio_tokens': 0, 'cached_tokens': 0}}, 'model_name': 'gpt-3.5-turbo-0125', 'system_fingerprint': None, 'id': 'chatcmpl-BWzq5OpiFLinbGW8n315q8NzP17Sq', 'service_tier': 'default', 'finish_reason': 'stop', 'logprobs': None}, id='run--e5f5c0c0-f22e-45bf-b014-a106cfa18521-0', usage_metadata={'input_tokens': 15, 'output_tokens': 74, 'total_tokens': 89, 'input_token_details': {'audio': 0, 'cache_read': 0}, 'output_token_details': {'audio': 0, 'reasoning': 0}})"
            ]
          },
          "execution_count": 6,
          "metadata": {},
          "output_type": "execute_result"
        }
      ],
      "source": [
        "llm.invoke(\"who is Demis Hassabis ? \")"
      ]
    },
    {
      "cell_type": "code",
      "execution_count": null,
      "metadata": {
        "id": "sQYwLia41uFJ"
      },
      "outputs": [],
      "source": [
        "import re\n",
        "\n",
        "def extract_youtube_id(url: str) -> str:\n",
        "    # Regex to handle multiple YouTube URL formats\n",
        "    pattern = r'(?:v=|\\/)([0-9A-Za-z_-]{11}).*'\n",
        "    match = re.search(pattern, url)\n",
        "    if match:\n",
        "        return match.group(1)\n",
        "    else:\n",
        "        raise ValueError(\"Invalid YouTube URL\")\n"
      ]
    },
    {
      "cell_type": "code",
      "execution_count": null,
      "metadata": {
        "colab": {
          "base_uri": "https://localhost:8080/"
        },
        "collapsed": true,
        "id": "QD2AhS5Y1wCO",
        "outputId": "9ff2eec4-933c-4106-b9b9-74ed8fe9ae25"
      },
      "outputs": [
        {
          "name": "stdout",
          "output_type": "stream",
          "text": [
            "TcmGYe39XG0\n",
            "We take off now from last semester where we\n",
            "left off with quantum physics this semester. Before we begin the course proper, I would\n",
            "like to get a little background from you on what you already know, how we should run this\n",
            "course, what the modalities are and so on. As far as the evaluation is concerned, it's\n",
            "the usual two quizzes and a final exam. Philosophical and interpretational aspects of quantum mechanics\n",
            "are still open in the sense that, all questions have not been answered. In spite of over a\n",
            "hundred years of effort, there are unresolved questions, there are deep mysteries, and there\n",
            "are central mysteries and issues. Some of them may turn out in the future to be non-questions\n",
            "in the sense that, you yourself may turn out to be asking the wrong question and so on.\n",
            "But at the operational level, it's actually easier than classical physics. The mathematics\n",
            "is simpler than classical mechanics, for instance, and it works over a huge wide range of phenomena. As far as we know, there are no violations\n",
            "of quantum mechanics. What we don't know is its interpretation to complete satisfaction.\n",
            "We don't know if it's a complete theory, we don't know if it will answer all questions\n",
            "and so on and so forth. But certainly as a calculational device, it's extremely successful\n",
            "and as a way of understanding natural phenomena, it seems to be the most basic of all subjects,\n",
            "in the sense that, everything at the ultimate level turns out to obey quantum mechanics. So with that kind of a very sketchy preamble,\n",
            "let me go on to state a few properties in quantum mechanics. Depending on what the response\n",
            "is, whether it's familiar or not and so on, I start as writing down the formulism.\n",
            "Because otherwise I could start by simply saying the postulates of quantum mechanics\n",
            "are as follows and as we go along, when things become inconvenient, I add one more postulate\n",
            "and then we go on and so forth and then you just say this is a set and that's it, these\n",
            "are the rules and so on. I shouldn't want to do that Since it is a conceptually very\n",
            "rich subject, I would like to find out what it is that you know, what you don't know\n",
            "and so on before we decide how to approach this subject. Now the first point about quantum mechanics\n",
            "is that, all of you have heard that quantum mechanics applies in the microscopic domain.\n",
            "It applies to electrons, atoms and things of atomic sizes. This is only partly true.\n",
            "It applies to everything. It applies to human beings, galaxies, the universe presumably,\n",
            "electrons, photons and so on. It is just that the manifestations of quantum mechanics become\n",
            "very dramatic when you look at extremely small objects. They become even more dramatic when\n",
            "you look at extremely small objects moving very fast relativistically. So, that's the\n",
            "reason why one feels that quantum mechanics is applicable only in the microscopic domain.\n",
            "Not true. It's applied everywhere. It has some manifestations which are very dramatic\n",
            "even in real life, even in the macroscopic domain. For instance, my favorite example\n",
            "is the fact that solids are rigid objects. The fact that I don't go through the floor\n",
            "here, the fact that matter doesn't penetrate itself is due to quantum mechanics. It's\n",
            "due to the Pauli Exclusion Principle which follows from quantum mechanics. So there are\n",
            "these very deep consequences. The phenomena you are used to in daily life like magnetism\n",
            "or electrical conduction or the propagation of sound in solids are all quantum phenomena. Not just super fluids, super conductors and\n",
            "so on which are given as usual examples of microscopic quantum mechanics but even ordinary\n",
            "phenomena like electrical conduction, the conduction of sound in solids, magnetism,\n",
            "the existence of permanent magnets, the existence of diamagnets, paramagnets etc depend on quantum\n",
            "mechanical principles widely. They are not explainable classically. You know that in the early days of quantum\n",
            "mechanics, there were several ways in which people found that classical physics failed.\n",
            "One of them was the black body radiation. So the very fact that collection of photons\n",
            "behaves quantum mechanically is an obvious instance where you have quantum mechanics\n",
            "for large systems. When you go to the atomic domain, one of the consequences of quantum\n",
            "mechanics become very apparent and it's called the uncertainty principle. Now I should like to find out from you what\n",
            "you know about the uncertainty principle. What's the uncertainty principle? Let me\n",
            "take one statement at a time. The position and momentum cannot be simultaneously and\n",
            "accurately measured. So we will make this precise now. Position and momentum of what?\n",
            "Any particle One particle, two particles, a system? Well, let's assume that systems\n",
            "are made up of particles. We have individual particles and let's look at the given particle,\n",
            "an individual particle. Now let's take the statement word by word. Simultaneously means at the same mathematical\n",
            "instant of time and by accurately, to what precision? To arbitrary precision, to infinite\n",
            "precision in principle. Cannot be measured. Now what does that mean? That means a failure\n",
            "of experiment? Is it just that we don't have a good enough piece of equipment? It's\n",
            "a property. It's fundamental. It's more than just a statement about measurement. It's\n",
            "nothing to do with measuring apparatus although that's the way it's normally looked at.\n",
            "The position and momentum cannot even be precisely defined for such objects at a given instant\n",
            "of time. The property of momentum and the property\n",
            "of position cannot exist, in the sense of being measurable with infinite precision at\n",
            "a given instant of time. So it is not a failure of experiment. It's not a failure or a lack\n",
            "of resolution or technology. It's an intrinsic property of nature for these objects. Now\n",
            "what sort position and what sort of momentum? Is it linear momentum? Angular momentum? Position\n",
            "I understand. Canonically conjugate. We already looked classically at canonically conjugate\n",
            "variables. It's the same thing. Canonically conjugate coordinate and momentum are pairs.\n",
            "They would obey an uncertainty principle. What about the x component of the position\n",
            "of a particle and the y component of the momentum? Do they satisfy an uncertainty principle?\n",
            "They don't since they are not canonically conjugate to each other. x with px, y with\n",
            "py and so on are canonically conjugate variables. What about \n",
            "non-cartesian coordinates? What about, for example, the radial distance\n",
            "in spherical polar coordinates in some coordinate system from the origin of a particle and the\n",
            "radial component of the momentum along the radius vector? These two are canonically conjugate\n",
            "to each other and it's these two which in quantum mechanics would satisfy an uncertainty\n",
            "principle. If they are not canonical conjugate, this is not true. So already you begin to\n",
            "see that the framework of classical Hamiltonian mechanics is being translated into quantum\n",
            "mechanics. So Hamiltonian's play a very special role\n",
            "and the whole assumption is that you already have a Hamiltonian for a system and you have\n",
            "the Hamiltonian framework of classical mechanics and then you translate to quantum mechanics.\n",
            "The question of how do you do quantum mechanics for systems which are not Hamiltonian in the\n",
            "classical limit is a much deeper and much harder question which would not be addressed\n",
            "in this course. It's not at all clear how one would do this. In particular, this immediately\n",
            "means that if you have dissipation in a system, classically you know that it cannot be an\n",
            "autonomous Hamiltonian system. Then you run into trouble and the corresponding quantum\n",
            "mechanics is not clear at all. It doesn't mean friction doesn't exist. It's just\n",
            "that the extension of the usual formalism of quantum mechanics to these dissipative\n",
            "cases is not straight forward and the problem of dissipation in quantum mechanics is still\n",
            "an open problem. The question of what happens in open systems which exchange energy and\n",
            "momentum and so on with the surroundings is still an open problem. In that sense, the\n",
            "quantum mechanics we are going to do is really very elementary for systems which are essentially\n",
            "going to be at absolute zero of temperature. So we won't bring in temperature and systems\n",
            "which don't have any dissipation at all, till fairly late in the course. So it's\n",
            "for those kinds of coordinates in momentum that you have the uncertainty principle. Now\n",
            "what does the uncertainty principle actually say? Let's look at x and px for a particle. This\n",
            "is a canonically conjugate pair. Classically I know that this is equal to 1. In the sense\n",
            "of Poisson brackets, this is 1 if I look at a single particle and I say x is a generalized\n",
            "coordinate and px is a corresponding conjugate momentum, the Poisson bracket of x with px\n",
            "is 1. Now there is a similar relation written down quantum mechanically. What does the uncertainty\n",
            "principle actually say? It says that delta x times delta px is greater\n",
            "than or equal to h cross over 2. This is certainly true. h cross is what I use for h over 2 pi\n",
            ". h is the Planck's constant. This is an experimental fact. This has been around now\n",
            "since 1925 or so and has not been contested. I should like to first find out from you what\n",
            "you mean by delta x. Now what do you mean by uncertainty? Is it\n",
            "the least count of some ruler or measuring device? It cannot be the least count. Well,\n",
            "in principle if I have a sufficiently good microscope or an accurate length measuring\n",
            "device with an arbitrarily good least count, I can measure position to arbitrary accuracy.\n",
            "So what do you mean by delta x? I make many measurements and take the standard\n",
            "deviation of them but I can still improve the standard deviation by making many more\n",
            "measurements. Thus we come to the fact that it's not definable with arbitrary precision.\n",
            "A particle of this kind we are talking about, cannot have a sharp value of its position\n",
            "and its conjugate momentum, be it any state of the particle. So it has nothing to do with\n",
            "the precision of the ruler or your experimental measuring device. This is well beyond all\n",
            "that. The quantity delta x is a standard deviation. So it says that you take your measuring device,\n",
            "no matter how accurate it is and continue making these measurements. You would still\n",
            "find a standard deviation no matter how many measurements you make and that standard deviation\n",
            "is delta x. Now obviously you need a calculational device\n",
            "for delta x. There is a rule which helps you to calculate this delta x and similarly for\n",
            "delta px. The moment I say standard deviation, I have to define a probability distribution\n",
            "so as to find the standard deviation with respect to that probability distribution.\n",
            "The whole point of quantum mechanics is that it should tell you what those probability\n",
            "distributions are. The equation which a quantity related to the probability distribution satisfies\n",
            "is called the Schrödinger equation. This quantity which you call the wave function,\n",
            "which we will introduce shortly, will help you calculate the probability distribution\n",
            "and after you find the distribution, you compute the average. Formally, standard deviation\n",
            "is defined as x square minus x average square to the power half. x square minus x average\n",
            "square to the power half is the variance and the square root of the variance is a standard\n",
            "deviation. The only difference is that when you normally do classical experiments or take\n",
            "any statistical quantity and measure it repeatedly, we obtain a certain histogram. In quantum mechanics, the angular brackets\n",
            "refer to averages with respect to a quantum mechanical probability distribution. That\n",
            "distribution will be specified through the Schrödinger equation. Once you do that, the\n",
            "uncertainty principle is certainly true. In practice, the uncertainty principle for a\n",
            "physical particle will find you an answer which is very much bigger than h cross over\n",
            "two. The reason is, over and above the quantum mechanical uncertainty, which is intrinsic\n",
            "in nature, there would be other uncertainties such as, the fact that the system is in contact\n",
            "with surroundings, thermal agitations, noise, vibrations, other perturbations from outside,\n",
            "a passing comet that will change your apparatus a bit, etc would add up on top of quantum\n",
            "mechanical uncertainty. But in its pristine form, the inequality in the uncertainty principle\n",
            "is the quantum mechanical product of quantum uncertainties, calculated in a very precise\n",
            "way. Notice it's an inequality, which means that it is conceivable that you can arrange\n",
            "matter such that it's an equality. That's the least value it could take. It could never\n",
            "become less than a certain non-zero positive quantity and of course you know that this\n",
            "is extremely small, in the units we are normally used to. That's the reason you don't see\n",
            "this very often unless you go to microscopic objects because h cross over 2 here, is of\n",
            "order 10 to the -- 34 in the standard international units. Since microscopic objects like a piece of\n",
            "chalk or a person or a rock, the energy involved is of the order of joules or tens of joules,\n",
            "and that's ten to the power minus thirty four joules, you don't see quantum uncertainties\n",
            "unless the objects themselves are extremely small, moving extremely fast. Now this is just one form of this principle\n",
            "and it's an inequality whereas quantum mechanics is a very fairly precise subject in the sense\n",
            "that it will give you equalities always. So this inequality is a very weak form of quantum\n",
            "mechanics. It definitely cannot be violated but in any given situation, you should be\n",
            "able to actually calculate what's delta x, delta px and find out what the right hand\n",
            "side is. So you don't need the inequalities. Just that no matter what you do, this cannot\n",
            "be violated. Incidentally is it possible to have delta\n",
            "x arbitrarily small from this inequality? Yes, but the price you pay for it would be\n",
            "that delta px would become proportionately large. we are going derive this we are going\n",
            "to derive this inequality from the Schrödinger equation from the postulates of quantum mechanics\n",
            "one of which would be the Schrödinger equation we would derive this your this inequality\n",
            "here um it's a fairly straight forward thing Incidentally this is not the most general\n",
            "form of the inequality. You should immediately ask what if I have two arbitrary canonically\n",
            "conjugate dynamical variables. Is there a Poisson bracket? Is there an uncertainty principle\n",
            "between them? The answer is yes. You could in fact ask if I have two physical quantities,\n",
            "doesn't have to be position and momentum, two physical quantities associated with any\n",
            "object, can I write the product of uncertainties. The answer is yes you could. It's going\n",
            "to be generalized. What I meant by we can derive is that, no\n",
            "matter what experiment you do, the inequality is never violated. So in that sense, it's\n",
            "an experimental fact. However, we know why that is so because from the postulates of\n",
            "quantum mechanics, this follows as a consequence and is verified. So it essentially says that\n",
            "we verified quantum mechanics or the predictions of quantum mechanics. You can never verify\n",
            "a theory. You can only verify its predictions. Incidentally, this is not the most general\n",
            "way of looking at it. It will turn out \n",
            "that Poisson brackets for physical quantities or canonical variables are replaced in quantum\n",
            "mechanics by operators. We will discuss this in great detail .Once you have operators on\n",
            "the right hand side; you need to know what do you mean by expectation values or average\n",
            "values of these operators. We will go through that in detail. It will turn out that if you had any physical\n",
            "quantity A, and any other physical quantity B, whether A's and B's are functions of\n",
            "the canonical variables, the q's and p's which we take over from classical mechanics,\n",
            "then, quantum mechanics will tell you that this is greater than or equal to on the right\n",
            "hand side, a certain quantity which is associated with A and B. It will turn out to be this\n",
            "is greater than equal to one half the modulus of the expectation value of the Poisson bracket\n",
            "of quantum bracket, that is, Poisson bracket of A with B, which turns out to be the commutator\n",
            "and I am going to define what it means. So that's the general uncertainty principle\n",
            "and this is something we are going to show explicitly. When you apply it all the way\n",
            "back to a Cartesian component of position and it's canonically conjugate momentum,\n",
            "this right hand side will reduce to h cross over two. In any case, it's clear that you have the\n",
            "modulus of some number or quantity here or some complex number in general, and you have\n",
            "the modulus of it, the modulus cannot be a negative number. It could be zero. Now you\n",
            "could ask from where Planck's constant comes in. It will generally appear here in the calculation\n",
            "of this object. Occasionally there are cases where it would become zero. For example, if\n",
            "you had x with py, this is 0. In quantum mechanics, the corresponding term\n",
            "would mean something like delta x delta py is greater than 0 or equal to 0. Do we have\n",
            "enough technology such that delta x and delta px \n",
            "is exactly equal to h cross over 2? That's\n",
            "a very good question. Do we have sufficiently precise experiments where you could actually\n",
            "take a given particle, take its x component of the position and the x component of it's\n",
            "momentum, measure delta x delta p, put it in some state and measure this and then discover\n",
            "that delta x delta p is actually equal to h cross over two? The answer is yes. That's\n",
            "called the minimum uncertainty state because that's the least value the uncertainty could\n",
            "have. In fact, we can go better. Not in terms of x and p, but in terms of quantities which\n",
            "satisfy relation similar to that. If I schematically plot delta x here with\n",
            "delta p here on this side, these are standard deviations so they are not negative numbers.\n",
            "They are both non-negative numbers. If you plot this, the minimum uncertainty occurs\n",
            "when delta x delta p is equal to h cross over two and what sort of curve is that? It's\n",
            "a rectangular hyperbola because you have x y is equal to constant. That's a rectangular\n",
            "hyperbola. So, in fact, you have a situation like this.\n",
            "On this curve, you have minimum uncertainty in suitable units. If x is length, then p\n",
            "is MLT inverse. So, they don't have the same physical dimensions. If you reduce them\n",
            "to both sufficiently dimensionless variables by dividing through a momentum scale and dividing\n",
            "by a length scale in the problem, then, it will turn out that the symmetric point here,\n",
            "where delta x is equal to delta p, in some sense, is the best you can do. The optimal thing you can do is to reduce\n",
            "the error in x to the least possible, the uncertainty in p to the least possible and\n",
            "that's the least we can do. Such states are realizable and we will talk about it in\n",
            "detail. In fact now, technology is such that, not in the context of positions of particles,\n",
            "but in the context of quantum optics states of the radiation field, where these two quantities\n",
            "are a pair of variables which are analogous to x and p; which are the counter parts, you\n",
            "can actually move along this curve here. So you could get to a stage when you are here,\n",
            "which implies that delta p is below the uncertainty limit but delta x is greater. These are possible\n",
            "and they are called squeezed states. So it means that you squeezed the uncertainty in\n",
            "one of them. You are practically going to zero but the price you pay is that the uncertainty\n",
            "in the other one increases enormously. Theoretically, you could even go down to zero in this case\n",
            "but the other variable would go to infinity. Most of the time, the states of the system\n",
            "that you deal with are sitting out here, where delta x delta p is greater than h cross over\n",
            "two. This is where the product \n",
            "is exactly equal to this but you could go to this region out to there. In general, that's\n",
            "what happens unless you arrange matters extremely carefully. So, the uncertainty principle in quantum mechanics\n",
            "has nothing to do with the precision we have available. Even with the best of precision,\n",
            "the uncertainty principle still operates and it says that the product of uncertainties\n",
            "in any variable and its conjugate variable has a least possible value. But if the pair\n",
            "of variables is canonically conjugate, classically, then this Poisson bracket is not zero. It's\n",
            "equal to 1 and correspondingly, it turns out that you have a relation of this kind out\n",
            "here. Similarly, delta r delta pr is greater than\n",
            "or equal to h cross over two and so on. The crucial thing is that you cannot measure one\n",
            "at one time, another at another time and then say that I have accuracy. It must be simultaneous,\n",
            "at the same instant of time. That's not possible and it has nothing to do with equipment.\n",
            "It is simply there as fact of nature. The problem is you have to put on your quantum\n",
            "thinking cap and think classically. The moment you have a relation like this, it implies\n",
            "that you cannot specify x and px to arbitrary accuracy. This means that for a particle which\n",
            "obeys quantum mechanics in the phase plane, if this is x and px, I cannot say that the\n",
            "position of that state of the particle is there. I cannot put a point down which flies in the\n",
            "phase of all that we did in the previous course where I talked about phase trajectories. The\n",
            "phase trajectory is a phase space point moving along and I said the point specifies the state\n",
            "of the system and all the coordinates and the all moment are specified. But you cannot\n",
            "do that now because the moment I put a point like this it implies that I know both x and\n",
            "px to arbitrary precision. So states of a system cannot be any longer represented by\n",
            "points in phase space. We have to replace it with something else which obeys the uncertainty\n",
            "principle. Therefore, there is an intrinsic fuzziness. You cannot do better than something\n",
            "like this. That's the best you can do because you cannot\n",
            "say there is a point in phase space. The moment you cannot say there is a point in phase space,\n",
            "as time evolves, you cannot talk about a phase trajectory either because the earlier classical\n",
            "picture was that, this point moved around as a function of time and gave you a trajectory. At every instant of time, you identified a\n",
            "phase space point with the state of the system or the particle. You cannot do that now. You\n",
            "have a little fuzzy ball and this fuzzy ball is moving around, distorting its shape and\n",
            "you don't know what it's going to do. So this entire classical description of particles\n",
            "with specific trajectories goes out of the window. You simply cannot talk about it which\n",
            "is why; when you study the hydrogen atom for instance, you cannot talk about an orbit for\n",
            "the electron because the moment you say something is orbiting, you have immediately told me\n",
            "its position and its momentum. Because if you write down an orbit, here is\n",
            "a center of attraction and here is an orbit, then at this instant of time you said this\n",
            "is the position with respect to the center of attraction and the tangent here will give\n",
            "you the direction of the momentum. You multiply the velocity by the mass and you get the momentum.\n",
            "This is not possible. So the idea of orbits is gone completely. It may be a very convenient\n",
            "picturisation even in quantum mechanics under certain circumstances but the fact of the\n",
            "matter is electrons don't have orbits. How do we measure delta x and delta px simultaneously?\n",
            "We will come to that. We will talk about how we can possibly think of measuring it experimentally.\n",
            "Does this property arise because particles have dimensions? No, it's not because particles\n",
            "have dimensions. That's a good question he says you cannot specify a given point maybe\n",
            "because it's got a finite extent no. Even if it were a point particle, even if it were\n",
            "a mathematical ideal point mass, this is true. So it has nothing to do with finite extent\n",
            "of the particle. It is an intrinsic property. That's the way it is. So we can no longer\n",
            "speak about orbits. In quantum chemistry, one is used to talking about molecular orbital\n",
            "theory. The s orbitals, p orbitals, pi orbitals and so on. They are convenient picturizations.\n",
            "That's not the way the electron actually behaves in an atom. For instance, when you\n",
            "do the Bohr model of the hydrogen atom, you are told that in the ground state of the hydrogen\n",
            "atom, the orbital distance is one times the Bohr radius and it's moving in a circular\n",
            "orbit. That cannot be true. Because if that were true, you have this particle\n",
            "here with the center of attraction O and something moving at the Bohr radius a0, the orbital\n",
            "angular momentum of this particle about the center of attraction cannot be zero. It's\n",
            "not going through the particle at all. So you calculate r cross p, it's supposed to\n",
            "be uniform circular motion and of course, the orbital angular momentum is non-zero.\n",
            "But at the same breath you are told that in the ground state of the hydrogen atom, l = 0.You\n",
            "have the hydrogen atom in which you described the state of the electron by a principle quantum\n",
            "number m, orbital angular momentum quantum number l and the magnetic quantum number m,\n",
            "then in the ground state i.e. the lowest energy state, n = 1, l = 0 and m = 0. And you are also told that if you look at\n",
            "the component of the orbital angular momentum perpendicular to the plane of the orbit, it's\n",
            "l times h cross. But if l is 0, that is zero. That cannot be true if it's orbiting at\n",
            "a finite distance. So that alone should tell you that this picture is wrong immediately.\n",
            "This is certainly true but they cannot be supported by a picture of this kind. On the\n",
            "other hand, it is true that if I calculate the average distance or the most probable\n",
            "distance, is in fact a zero. But that's a statistical and a quantum mechanical average\n",
            "here. So the real fact of the matter is that the\n",
            "electron does not have a position and a conjugate momentum simultaneously. It is not a point\n",
            "particle in that classical sense of the word. You have to get out of this classical way\n",
            "of thinking. In some kind of crazy extended object, you need something to describe it\n",
            "by what's called as the state of the system, the state vector which is a generalization\n",
            "of the wave function. We will discuss it in great detail and I will tell you how the state\n",
            "vector is defined and how to calculate its properties here. As far as I am concerned\n",
            "that's what the electron is in reality. I don't answer questions like is it a wave,\n",
            "is it a particle, is it a particle on some days and a particle on another days etc. These\n",
            "are terms which are meaningless when you apply it in the context of quantum mechanical particles.\n",
            "The failure is not on the part of the quantum mechanical particle. The failure is not on\n",
            "the part of the experimentalist. The failure is on the part of the English language. Words\n",
            "like wave particle and so on have been coined by us to paraphrase a set of properties. These\n",
            "properties are the properties of objects with which we have daily experienced. And then\n",
            "when you say a particle in the mental picture, you have a particle like a billiard ball,\n",
            "a hard rigid object, very compact, sometimes idealized even to a point, massive, something\n",
            "which is localized, carries energy, momentum and so on. On the other hand, the word wave\n",
            "is mentally based on our experience with them in nature which we see around us like water\n",
            "waves or sound waves. These are diffused objects that are not localized.\n",
            "They don't have rigid boundaries. They are not hard. They are smooth, gently undulating\n",
            "everywhere, delocalized in space and time etc. they carry wavelength, frequency and\n",
            "properties of that kind. We put all classical objects into these two bins. One of them would\n",
            "consist of particles which are compact, localized, hard objects, carrying properties like energy,\n",
            "momentum etc and the other is waves which carry properties like wavelength, frequency\n",
            "etc. they are delocalized extended objects. And we know that in daily life, these are\n",
            "mutually exclusive. The wave is not a particle; the particle is not a wave. We can see and\n",
            "measure properties and decide whether it is falls in this basket or the other basket. What we shouldn't do is to extrapolate this\n",
            "categorization of objects into waves and particles to the microscopic domain because in that\n",
            "domain it is conceivable that there exist objects which have some of these properties\n",
            "and some of those properties. It's also conceivable that we have objects which have\n",
            "these properties or those properties depending on how you probe them or how you measure these\n",
            "properties. That's what happens for electrons or microscopic particles. So the failure is\n",
            "not on the part of the electron or on the part of our ability to probe nature. It's\n",
            "a semantic failure. We shouldn't use terms which are mutually exclusive sets of properties\n",
            "in the macroscopic world to describe the microscopic world. If you understand that, there is no wave particle\n",
            "duality mystery. It is just that this description fails completely and you need a better description.\n",
            "It so happens, not unfortunately but fortunately that the description is not in terms of ordinary\n",
            "language. It is intrinsically mathematical and that's the language you need to describe\n",
            "these objects in. It's completely unambiguous. It's just that you cannot put it back in\n",
            "the normal words to 100% because these words have been coined by us to understand the world\n",
            "of macroscopic phenomenon. This is the reason why we need mathematics. Therefore, the question\n",
            "of something being physical and something being unphysical or purely mathematical, if\n",
            "I say it in equations shouldn't be there. It is just that the words are insufficient.\n",
            "Hence we took a longtime to recognize this but once you recognize it, it's like learning\n",
            "another language and that's the appropriate language for it. It's not that we haven't\n",
            "coined enough words for this. It's not that either because you will just be coining arbitrary\n",
            "words to translate mathematical terms into this. it's not that at all it's not that\n",
            "the language doesn't have enough words is nothing much is gained if I say something\n",
            "which is neither a wave nor a particle is a wavicle [Noise] that's being used in the\n",
            "in the literature people have said this nothing is gained by it I would rather say that is it's a state\n",
            "vector. In fact it's much more precise that way. Its not just at the level of semantics\n",
            "alone. It goes much deeper than that. The fundamental thing about quantum mechanics\n",
            "will come out in the fact that, even ordinary words like \"and\" and \"or\" have different\n",
            "meanings in classical and quantum physics, and you have to get used to it. If you think\n",
            "a little bit about it, the word \"and\" in ordinary language is always with respect\n",
            "to multiplication of probabilities. You want this to happen and that to happen, then the\n",
            "probability is multiply. The word \"or\" is always with respect to addition of probabilities.\n",
            "You have two mutually exclusive possibilities and you want this or that to happen, the total\n",
            "probability is addition. So I would like to say that \"or\" means addition and \"and\"\n",
            "means multiply. That's the classical way of looking at it. In quantum mechanics the\n",
            "same thing is true except it's not true for probabilities but for objects called probability\n",
            "amplitudes. So it's even a change of classical probability. Quantum mechanics could be looked\n",
            "at as a change in the rules of classical probability completely. Now, of course the immediate hard question\n",
            "that arises is when does something stop being quantum mechanical and start being classical?\n",
            "I know that a single electron is obviously a quantum mechanical object. Ten electrons\n",
            "are still quantum mechanical. A molecule is quantum mechanical. On the other hand, a piece\n",
            "of chalk looks classical which can be describes by classical physics. So when does it stop?\n",
            "Is there some sharp boundary? The answer is no. there is no sharp boundary. This is not\n",
            "a question of whether there is a precise boundary between classical and quantum physics. It's\n",
            "just that, as you go towards the quantum domain from the classical domain, the quantum corrections\n",
            "to classical physics become more and more significant. Then it's a question of what\n",
            "accuracy you want. There will be a stage when the classical description breaks down completely.\n",
            "There is no smooth boundary at all. It's a much diffused boundary. This is like some\n",
            "of these paintings you see. You start with red on the right hand side and blue on the\n",
            "left hand side and as you go, there is no sharp boundary. It's just that things become\n",
            "bluer as you move to the left and right. Eventually there is no red. Everything is blue. It's\n",
            "in the same sense the classical quantum boundary is diffused. It's not a sharp boundary.\n",
            "So all the quantum phenomena when started with something fully quantum mechanical will\n",
            "start becoming more and more classical as you move towards the classical region. But\n",
            "I must say here that classical mechanics is an approximation to quantum mechanics not\n",
            "the other way around. The more fundamental theory is quantum mechanics and classical\n",
            "mechanics is a limiting case, an approximation to it. Just as relativistic physics is believed\n",
            "by us to be the right formalism and non-relativistic physics are an approximation when v over c\n",
            "becomes negligible and so on. It's exactly in the same way because Planck's\n",
            "constant is not zero but when the effects that you are looking at or in some sense much\n",
            "bigger than Planck's constant then you would say it's a in the classical region. Can\n",
            "you have quantum formalism without a classical formalism at all? This is again a very deep\n",
            "question and the answer is, it looks like no. you cannot. And it's different from\n",
            "relativity because it's conceivable that you live in a universe where everything moves\n",
            "at speeds comparable to the speed of light in vacuum. You don't have a non-relativistic\n",
            "region at all. It's conceivable and it will be perfectly consistent. But the very interpretation\n",
            "of quantum mechanics, by us at least, because we have macroscopic objects, looks like you\n",
            "need to have a classical limit. Otherwise the interpretation becomes meaningless. But\n",
            "I don't know the deep answer to the question of is it consistent to have a universe in\n",
            "which you have only quantum physics and no classical region at all. But for us it's\n",
            "a mood point. The reason is we are large objects and we are in the classical region in many\n",
            "respects. Therefore, for us to be able to probe that universe of quantum physics and\n",
            "understand it, it looks likes it's essential for us to have a classical limit. The very\n",
            "meaning of words like measurement, recording, observation, etc is intrinsically classical\n",
            "notions. So it looks like we need it. But whether it's consistent to have a fully\n",
            "quantum universe is not known. Sir, today there are so many developments?\n",
            "Why don't we have quantum gravity? Why is this theory so distinct and complicated? We\n",
            "don't know. There are deep reasons as to why we have to go far down into length scales\n",
            "and time scales and so on, before you see the effects of quantum gravity. The reason\n",
            "for it is simply that since we are spending time talking about deep problems today, let's\n",
            "continue with that. You see the fundamental constants of nature that we know about, are\n",
            "not constants in mass, length and time. That's not the way the universe is built. It turns out that what we have available to\n",
            "us in the universe is a quantum of action, h; a c and Newton's gravitational constant\n",
            "G. These are the fundamental constants of nature. These are the most basic constants\n",
            "of nature. Actually, there are just two of them. We could really say h cross and c. we\n",
            "could set equal one and say they are fundamental. These are really basic choice of units and\n",
            "there is only G. but quite apart from that, you have these three fundamental constants\n",
            "of nature. You can construct from them, quantities of dimensions; mass, length and time, by taking\n",
            "suitable combinations of h, c and G. So I request to do this. In combinations of h to\n",
            "the power alpha, G to the power beta, c to the power gamma, find alpha, beta and gamma\n",
            "such that, you get a length or a mass or a time and these are the Planck mass, Planck\n",
            "length, Planck time, etc. Now clearly, those would be the natural length\n",
            "scales and time scales, when gravity as well as quantum mechanics will play a role because\n",
            "gravity is represented by this and quantum mechanics by that. And it turns out that the\n",
            "length scale that you talk about, l Planck, lp is of the order of ten to the power minus\n",
            "thirty five meters. That's the way these numbers are in our universe. The Planck time\n",
            "tp is of the order of 10 to the power - 42 seconds. This is the reason why we don't\n",
            "know what's happening below that. Because concepts like length, time and so on may not\n",
            "even be definable continuously up to zero, below these lengths scales and time scales.\n",
            "So the problem of quantizing gravity, which is what I presumed you are referring to, is\n",
            "a difficult one. We don't know what goes on there. part of the difficulty is that,\n",
            "even concepts like length, mass and time, length and time in particular or space time,\n",
            "whether it's continuous all the way down to zero or not, we don't know because the\n",
            "laws of physics, as we know today, don't presumably operate below this. So we don't\n",
            "know what replaces it. This is the difficulty. There are other technical difficulties in\n",
            "quantizing gravity and so on. The fundamental difficulty is simply that our notion of space-time\n",
            "breaks down. You said that the semantics is not enough.\n",
            "Are we sure that the mathematics is enough? well, to the extent that, if you make a set\n",
            "of postulates based on some observations which could not be explained by classical physics,\n",
            "this is how quantum mechanics was initially put in, and then you ask what are it's predictions,\n",
            "what are the results of it's calculations and then you observe once again, do those\n",
            "experiments and test it out and so on, you are testing this theory and this formalism\n",
            "and the mathematics associated with it. It looks like there are no violations, as far\n",
            "as we know. But you can never prove a physical theory to 100% accuracy. It doesn't exist.\n",
            "There will be a domain where it might perhaps breakdown at some stage. We don't know at\n",
            "the moment. Now as to whether the mathematics is sufficient, as far as we know, yes this\n",
            "is sufficient but we don't know what happens when you go to these regions. When you go to quantum field theory, when\n",
            "you include relativity, general relativity plus quantum mechanics and then try to do\n",
            "make calculations, even the formalism of quantum field theory breaks down. It yields nonsense.\n",
            "You have to replace it with some other formalism. There are many candidates, one of which is\n",
            "called string theory. Another one called loop gravity, quantum gravity and so on. But these\n",
            "are at a very deep conceptual level. Its very likely that this problem  that our present understanding of space-time\n",
            "itself as well as our understanding of quantum mechanics will undergo drastic revisions before\n",
            "we solve this problem. The answer is sort of not well established. The answer is that\n",
            "it looks like we have not succeeded with existing technology. Now it's purely mathematical.\n",
            "The indications are the technical difficulties that arise in this program and they suggest\n",
            "that our very ideas of space- time, what we mean by dimension, etc, as well as what we\n",
            "mean by normal quantum mechanics I think, will undergo drastic revision. So it's a\n",
            "house under construction. It looks like the existing frame work is not powerful enough\n",
            "to do this. You could ask now what about experiment. That\n",
            "we lag far behind. The shortest distances we can probe are of the order of ten to the\n",
            "power minus seventeen or eighteen. This is all we have been able to probe so far in the\n",
            "highest energy accelerators. There are sixteen orders of magnitude or seventeen orders of\n",
            "magnitude between these two. We don't know what hat can happen in there. Similarly, the shortest length scales we have\n",
            "been able to probe which are of the order of 10 to the -- 23 seconds. There are twenty\n",
            "orders of magnitude in between. We don't know how things will change. So we keep an\n",
            "open mind completely. That's the whole point about physics. It's not mathematics. So\n",
            "it is not a set of axioms from which you derive results. The rules of the game we are prepared\n",
            "to change and subsume in an even broader frame work and then say what we did so far is a\n",
            "special case, a limiting case, etc and try to increase the range of applicability of\n",
            "whatever theory you have. So in that sense, there is no dogma completely\n",
            "open to it. But people have been thinking very hard for many years now. Physics is four\n",
            "hundred years old in its modern form and in the last hundred years, of course it really\n",
            "accelerated. But one thing is for sure that, just as Newtonian mechanics is now known to\n",
            "be an appropriate approximation under certain circumstances, so is it true that today's\n",
            "quantum mechanics and our calculational tools will be applicable in a certain region of\n",
            "physical parameters. The understanding of why this is so should get deeper, broader\n",
            "and so on. The understanding of why this is an approximation, why it works in this range\n",
            "and not in some other range will become sharper. But I think some fundamental issues themselves\n",
            "will become clearer namely; what's the meaning of space time, what determines the dimensions\n",
            "of space-time, what's this business about gravity, what are the fundamental forces of\n",
            "nature and so on. After all, it's a sobering thought that\n",
            "we don't know 95% of the constituents of our own universe. We can only explain 5% of\n",
            "it \n",
            "in terms of matter. After so many millennia of astronomy and the real explosion in the\n",
            "last 50 years or so, the conclusion is that we really don't know 95% of our own universe\n",
            "and we don't know if it is one of an infinite number of possible universes. So it's just\n",
            "that like Wheeler said our knowledge is like an island and the boundary of this island\n",
            "is, of course the frontier of ignorance. So the island is getting bigger all the time\n",
            "but then its parameter is also increasing. The level of ignorance is also increasing\n",
            "at the same time. May be they will work but we have to keep trying. I should end by what Hilbert said in 1900\n",
            "when he gave these famous twenty three unsolved problems in mathematics in The International\n",
            "Congress of Mathematicians. He listed what was then, the major unsolved problem, of which\n",
            "today, only the Riemann Hypothesis remains unproved. Everything else has been taken care\n",
            "of, one way or another. Some of them are not problems. One of them was the axiomatization\n",
            "of physics. Could all of physics we written in terms of a set of axioms? The answer to\n",
            "that is no. Physics is not axiomatizable. But he made the statement and then it looked\n",
            "like there was a lot of problem ahead and so on, but he made a very optimistic statement.\n",
            "So I think one should have this note of optimism. It is essential for us to be curious. many\n",
            "reasons why it's not part of the reason is simply that all physical laws, as far as\n",
            "we know, apply in certain regions of physical parameters and when you go out of that, it's\n",
            "a different set of rules. Looks like it's very general but its interpretation\n",
            "and the way it's set up is not satisfying. So it already looks like there are big black\n",
            "boxes in it which we have pushed under the rug but they exist nevertheless. We have not\n",
            "understood quantum non-locality. Except in some mathematical form of a framework, we\n",
            "prove our satisfaction. It really hasn't come to grips with the meaning of measurement.\n",
            "Now what happens to a system when you measure it? So there are large gaps conceptual gaps\n",
            "here. So it's clear it's an incomplete theory in that sense at least that understanding\n",
            "is not as deep as we would like it to be the framework of quantum mechanics. You could\n",
            "ask may be this is the best you can do how do you know we don't know that too we don't\n",
            "know but we have to keep pushing so today has been a sort of general talk. We will start\n",
            "of with some specific issues and so on next time.\n"
          ]
        }
      ],
      "source": [
        "url = \"https://www.youtube.com/watch?v=TcmGYe39XG0&list=PLBD53FA93C10327B9\"\n",
        "video_id = extract_youtube_id(url)\n",
        "print(video_id)  # Output: dQw4w9WgXcQ\n",
        "# video_id = \"Xj0Jtjg3lHQ\" # only the ID, not full URL\n",
        "try:\n",
        "    # If you don’t care which language, this returns the “best” one\n",
        "    transcript_list = YouTubeTranscriptApi.get_transcript(video_id, languages=[\"en\"])\n",
        "\n",
        "    # Flatten it to plain text\n",
        "    transcript = \" \".join(chunk[\"text\"] for chunk in transcript_list)\n",
        "    print(transcript)\n",
        "\n",
        "except TranscriptsDisabled:\n",
        "    print(\"No captions available for this video.\")"
      ]
    },
    {
      "cell_type": "code",
      "execution_count": null,
      "metadata": {
        "id": "dwDSDSAwC8Gi"
      },
      "outputs": [],
      "source": [
        "# video_id = \"Xj0Jtjg3lHQ\" # only the ID, not full URL\n",
        "# try:\n",
        "#     # If you don’t care which language, this returns the “best” one\n",
        "#     transcript_list = YouTubeTranscriptApi.get_transcript(video_id, languages=[\"en\"])\n",
        "\n",
        "#     # Flatten it to plain text\n",
        "#     transcript = \" \".join(chunk[\"text\"] for chunk in transcript_list)\n",
        "#     print(transcript)\n",
        "\n",
        "# except TranscriptsDisabled:\n",
        "#     print(\"No captions available for this video.\")"
      ]
    },
    {
      "cell_type": "code",
      "execution_count": null,
      "metadata": {
        "id": "1OFXmW0vDKbM"
      },
      "outputs": [],
      "source": [
        "# transcript_list"
      ]
    },
    {
      "cell_type": "markdown",
      "metadata": {
        "id": "f0V5k3UYEb5K"
      },
      "source": [
        "Step 1b - Indexing (Text Splitting)"
      ]
    },
    {
      "cell_type": "code",
      "execution_count": null,
      "metadata": {
        "id": "IKtS-XHjEVGL"
      },
      "outputs": [],
      "source": []
    },
    {
      "cell_type": "code",
      "execution_count": null,
      "metadata": {
        "id": "24i-ZSVXFbnC"
      },
      "outputs": [],
      "source": [
        "splitter = RecursiveCharacterTextSplitter(chunk_size=1000, chunk_overlap=200)\n",
        "chunks = splitter.create_documents([transcript])"
      ]
    },
    {
      "cell_type": "code",
      "execution_count": null,
      "metadata": {
        "colab": {
          "base_uri": "https://localhost:8080/"
        },
        "id": "tomhv2u6Eeyx",
        "outputId": "52db8d10-b2ed-4f34-8de3-153c0e86bbfd"
      },
      "outputs": [
        {
          "data": {
            "text/plain": [
              "56"
            ]
          },
          "execution_count": 42,
          "metadata": {},
          "output_type": "execute_result"
        }
      ],
      "source": [
        "len(chunks)"
      ]
    },
    {
      "cell_type": "code",
      "execution_count": null,
      "metadata": {
        "colab": {
          "base_uri": "https://localhost:8080/"
        },
        "id": "1Z4vfYAFEgW8",
        "outputId": "b99244a6-2af3-4355-a1f8-0c4e9cffa3bb"
      },
      "outputs": [
        {
          "data": {
            "text/plain": [
              "Document(metadata={}, page_content=\"an open problem. The question of what happens in open systems which exchange energy and\\nmomentum and so on with the surroundings is still an open problem. In that sense, the\\nquantum mechanics we are going to do is really very elementary for systems which are essentially\\ngoing to be at absolute zero of temperature. So we won't bring in temperature and systems\\nwhich don't have any dissipation at all, till fairly late in the course. So it's\\nfor those kinds of coordinates in momentum that you have the uncertainty principle. Now\\nwhat does the uncertainty principle actually say? Let's look at x and px for a particle. This\\nis a canonically conjugate pair. Classically I know that this is equal to 1. In the sense\\nof Poisson brackets, this is 1 if I look at a single particle and I say x is a generalized\\ncoordinate and px is a corresponding conjugate momentum, the Poisson bracket of x with px\\nis 1. Now there is a similar relation written down quantum mechanically. What does the uncertainty\")"
            ]
          },
          "execution_count": 43,
          "metadata": {},
          "output_type": "execute_result"
        }
      ],
      "source": [
        "chunks[10]"
      ]
    },
    {
      "cell_type": "markdown",
      "metadata": {
        "id": "Y4qj7RW4x-lN"
      },
      "source": [
        "Sementic memory based(experminal based)"
      ]
    },
    {
      "cell_type": "code",
      "execution_count": null,
      "metadata": {
        "colab": {
          "base_uri": "https://localhost:8080/"
        },
        "collapsed": true,
        "id": "7Q4yuS7jyJAG",
        "outputId": "43317927-2b98-4591-8a36-a0dcceebbf99"
      },
      "outputs": [
        {
          "name": "stdout",
          "output_type": "stream",
          "text": [
            "Requirement already satisfied: langchain in /usr/local/lib/python3.11/dist-packages (0.3.25)\n",
            "Requirement already satisfied: langchain-experimental in /usr/local/lib/python3.11/dist-packages (0.3.4)\n",
            "Requirement already satisfied: sentence-transformers in /usr/local/lib/python3.11/dist-packages (4.1.0)\n",
            "Requirement already satisfied: langchain-core<1.0.0,>=0.3.58 in /usr/local/lib/python3.11/dist-packages (from langchain) (0.3.59)\n",
            "Requirement already satisfied: langchain-text-splitters<1.0.0,>=0.3.8 in /usr/local/lib/python3.11/dist-packages (from langchain) (0.3.8)\n",
            "Requirement already satisfied: langsmith<0.4,>=0.1.17 in /usr/local/lib/python3.11/dist-packages (from langchain) (0.3.42)\n",
            "Requirement already satisfied: pydantic<3.0.0,>=2.7.4 in /usr/local/lib/python3.11/dist-packages (from langchain) (2.11.4)\n",
            "Requirement already satisfied: SQLAlchemy<3,>=1.4 in /usr/local/lib/python3.11/dist-packages (from langchain) (2.0.40)\n",
            "Requirement already satisfied: requests<3,>=2 in /usr/local/lib/python3.11/dist-packages (from langchain) (2.32.3)\n",
            "Requirement already satisfied: PyYAML>=5.3 in /usr/local/lib/python3.11/dist-packages (from langchain) (6.0.2)\n",
            "Requirement already satisfied: langchain-community<0.4.0,>=0.3.0 in /usr/local/lib/python3.11/dist-packages (from langchain-experimental) (0.3.24)\n",
            "Requirement already satisfied: transformers<5.0.0,>=4.41.0 in /usr/local/lib/python3.11/dist-packages (from sentence-transformers) (4.51.3)\n",
            "Requirement already satisfied: tqdm in /usr/local/lib/python3.11/dist-packages (from sentence-transformers) (4.67.1)\n",
            "Requirement already satisfied: torch>=1.11.0 in /usr/local/lib/python3.11/dist-packages (from sentence-transformers) (2.6.0+cu124)\n",
            "Requirement already satisfied: scikit-learn in /usr/local/lib/python3.11/dist-packages (from sentence-transformers) (1.6.1)\n",
            "Requirement already satisfied: scipy in /usr/local/lib/python3.11/dist-packages (from sentence-transformers) (1.15.3)\n",
            "Requirement already satisfied: huggingface-hub>=0.20.0 in /usr/local/lib/python3.11/dist-packages (from sentence-transformers) (0.31.1)\n",
            "Requirement already satisfied: Pillow in /usr/local/lib/python3.11/dist-packages (from sentence-transformers) (11.2.1)\n",
            "Requirement already satisfied: typing_extensions>=4.5.0 in /usr/local/lib/python3.11/dist-packages (from sentence-transformers) (4.13.2)\n",
            "Requirement already satisfied: filelock in /usr/local/lib/python3.11/dist-packages (from huggingface-hub>=0.20.0->sentence-transformers) (3.18.0)\n",
            "Requirement already satisfied: fsspec>=2023.5.0 in /usr/local/lib/python3.11/dist-packages (from huggingface-hub>=0.20.0->sentence-transformers) (2025.3.2)\n",
            "Requirement already satisfied: packaging>=20.9 in /usr/local/lib/python3.11/dist-packages (from huggingface-hub>=0.20.0->sentence-transformers) (24.2)\n",
            "Requirement already satisfied: hf-xet<2.0.0,>=1.1.0 in /usr/local/lib/python3.11/dist-packages (from huggingface-hub>=0.20.0->sentence-transformers) (1.1.0)\n",
            "Requirement already satisfied: aiohttp<4.0.0,>=3.8.3 in /usr/local/lib/python3.11/dist-packages (from langchain-community<0.4.0,>=0.3.0->langchain-experimental) (3.11.15)\n",
            "Requirement already satisfied: tenacity!=8.4.0,<10,>=8.1.0 in /usr/local/lib/python3.11/dist-packages (from langchain-community<0.4.0,>=0.3.0->langchain-experimental) (9.1.2)\n",
            "Requirement already satisfied: dataclasses-json<0.7,>=0.5.7 in /usr/local/lib/python3.11/dist-packages (from langchain-community<0.4.0,>=0.3.0->langchain-experimental) (0.6.7)\n",
            "Requirement already satisfied: pydantic-settings<3.0.0,>=2.4.0 in /usr/local/lib/python3.11/dist-packages (from langchain-community<0.4.0,>=0.3.0->langchain-experimental) (2.9.1)\n",
            "Requirement already satisfied: httpx-sse<1.0.0,>=0.4.0 in /usr/local/lib/python3.11/dist-packages (from langchain-community<0.4.0,>=0.3.0->langchain-experimental) (0.4.0)\n",
            "Requirement already satisfied: numpy>=1.26.2 in /usr/local/lib/python3.11/dist-packages (from langchain-community<0.4.0,>=0.3.0->langchain-experimental) (2.0.2)\n",
            "Requirement already satisfied: jsonpatch<2.0,>=1.33 in /usr/local/lib/python3.11/dist-packages (from langchain-core<1.0.0,>=0.3.58->langchain) (1.33)\n",
            "Requirement already satisfied: httpx<1,>=0.23.0 in /usr/local/lib/python3.11/dist-packages (from langsmith<0.4,>=0.1.17->langchain) (0.28.1)\n",
            "Requirement already satisfied: orjson<4.0.0,>=3.9.14 in /usr/local/lib/python3.11/dist-packages (from langsmith<0.4,>=0.1.17->langchain) (3.10.18)\n",
            "Requirement already satisfied: requests-toolbelt<2.0.0,>=1.0.0 in /usr/local/lib/python3.11/dist-packages (from langsmith<0.4,>=0.1.17->langchain) (1.0.0)\n",
            "Requirement already satisfied: zstandard<0.24.0,>=0.23.0 in /usr/local/lib/python3.11/dist-packages (from langsmith<0.4,>=0.1.17->langchain) (0.23.0)\n",
            "Requirement already satisfied: annotated-types>=0.6.0 in /usr/local/lib/python3.11/dist-packages (from pydantic<3.0.0,>=2.7.4->langchain) (0.7.0)\n",
            "Requirement already satisfied: pydantic-core==2.33.2 in /usr/local/lib/python3.11/dist-packages (from pydantic<3.0.0,>=2.7.4->langchain) (2.33.2)\n",
            "Requirement already satisfied: typing-inspection>=0.4.0 in /usr/local/lib/python3.11/dist-packages (from pydantic<3.0.0,>=2.7.4->langchain) (0.4.0)\n",
            "Requirement already satisfied: charset-normalizer<4,>=2 in /usr/local/lib/python3.11/dist-packages (from requests<3,>=2->langchain) (3.4.2)\n",
            "Requirement already satisfied: idna<4,>=2.5 in /usr/local/lib/python3.11/dist-packages (from requests<3,>=2->langchain) (3.10)\n",
            "Requirement already satisfied: urllib3<3,>=1.21.1 in /usr/local/lib/python3.11/dist-packages (from requests<3,>=2->langchain) (2.4.0)\n",
            "Requirement already satisfied: certifi>=2017.4.17 in /usr/local/lib/python3.11/dist-packages (from requests<3,>=2->langchain) (2025.4.26)\n",
            "Requirement already satisfied: greenlet>=1 in /usr/local/lib/python3.11/dist-packages (from SQLAlchemy<3,>=1.4->langchain) (3.2.1)\n",
            "Requirement already satisfied: networkx in /usr/local/lib/python3.11/dist-packages (from torch>=1.11.0->sentence-transformers) (3.4.2)\n",
            "Requirement already satisfied: jinja2 in /usr/local/lib/python3.11/dist-packages (from torch>=1.11.0->sentence-transformers) (3.1.6)\n",
            "Requirement already satisfied: nvidia-cuda-nvrtc-cu12==12.4.127 in /usr/local/lib/python3.11/dist-packages (from torch>=1.11.0->sentence-transformers) (12.4.127)\n",
            "Requirement already satisfied: nvidia-cuda-runtime-cu12==12.4.127 in /usr/local/lib/python3.11/dist-packages (from torch>=1.11.0->sentence-transformers) (12.4.127)\n",
            "Requirement already satisfied: nvidia-cuda-cupti-cu12==12.4.127 in /usr/local/lib/python3.11/dist-packages (from torch>=1.11.0->sentence-transformers) (12.4.127)\n",
            "Requirement already satisfied: nvidia-cudnn-cu12==9.1.0.70 in /usr/local/lib/python3.11/dist-packages (from torch>=1.11.0->sentence-transformers) (9.1.0.70)\n",
            "Requirement already satisfied: nvidia-cublas-cu12==12.4.5.8 in /usr/local/lib/python3.11/dist-packages (from torch>=1.11.0->sentence-transformers) (12.4.5.8)\n",
            "Requirement already satisfied: nvidia-cufft-cu12==11.2.1.3 in /usr/local/lib/python3.11/dist-packages (from torch>=1.11.0->sentence-transformers) (11.2.1.3)\n",
            "Requirement already satisfied: nvidia-curand-cu12==10.3.5.147 in /usr/local/lib/python3.11/dist-packages (from torch>=1.11.0->sentence-transformers) (10.3.5.147)\n",
            "Requirement already satisfied: nvidia-cusolver-cu12==11.6.1.9 in /usr/local/lib/python3.11/dist-packages (from torch>=1.11.0->sentence-transformers) (11.6.1.9)\n",
            "Requirement already satisfied: nvidia-cusparse-cu12==12.3.1.170 in /usr/local/lib/python3.11/dist-packages (from torch>=1.11.0->sentence-transformers) (12.3.1.170)\n",
            "Requirement already satisfied: nvidia-cusparselt-cu12==0.6.2 in /usr/local/lib/python3.11/dist-packages (from torch>=1.11.0->sentence-transformers) (0.6.2)\n",
            "Requirement already satisfied: nvidia-nccl-cu12==2.21.5 in /usr/local/lib/python3.11/dist-packages (from torch>=1.11.0->sentence-transformers) (2.21.5)\n",
            "Requirement already satisfied: nvidia-nvtx-cu12==12.4.127 in /usr/local/lib/python3.11/dist-packages (from torch>=1.11.0->sentence-transformers) (12.4.127)\n",
            "Requirement already satisfied: nvidia-nvjitlink-cu12==12.4.127 in /usr/local/lib/python3.11/dist-packages (from torch>=1.11.0->sentence-transformers) (12.4.127)\n",
            "Requirement already satisfied: triton==3.2.0 in /usr/local/lib/python3.11/dist-packages (from torch>=1.11.0->sentence-transformers) (3.2.0)\n",
            "Requirement already satisfied: sympy==1.13.1 in /usr/local/lib/python3.11/dist-packages (from torch>=1.11.0->sentence-transformers) (1.13.1)\n",
            "Requirement already satisfied: mpmath<1.4,>=1.1.0 in /usr/local/lib/python3.11/dist-packages (from sympy==1.13.1->torch>=1.11.0->sentence-transformers) (1.3.0)\n",
            "Requirement already satisfied: regex!=2019.12.17 in /usr/local/lib/python3.11/dist-packages (from transformers<5.0.0,>=4.41.0->sentence-transformers) (2024.11.6)\n",
            "Requirement already satisfied: tokenizers<0.22,>=0.21 in /usr/local/lib/python3.11/dist-packages (from transformers<5.0.0,>=4.41.0->sentence-transformers) (0.21.1)\n",
            "Requirement already satisfied: safetensors>=0.4.3 in /usr/local/lib/python3.11/dist-packages (from transformers<5.0.0,>=4.41.0->sentence-transformers) (0.5.3)\n",
            "Requirement already satisfied: joblib>=1.2.0 in /usr/local/lib/python3.11/dist-packages (from scikit-learn->sentence-transformers) (1.5.0)\n",
            "Requirement already satisfied: threadpoolctl>=3.1.0 in /usr/local/lib/python3.11/dist-packages (from scikit-learn->sentence-transformers) (3.6.0)\n",
            "Requirement already satisfied: aiohappyeyeballs>=2.3.0 in /usr/local/lib/python3.11/dist-packages (from aiohttp<4.0.0,>=3.8.3->langchain-community<0.4.0,>=0.3.0->langchain-experimental) (2.6.1)\n",
            "Requirement already satisfied: aiosignal>=1.1.2 in /usr/local/lib/python3.11/dist-packages (from aiohttp<4.0.0,>=3.8.3->langchain-community<0.4.0,>=0.3.0->langchain-experimental) (1.3.2)\n",
            "Requirement already satisfied: attrs>=17.3.0 in /usr/local/lib/python3.11/dist-packages (from aiohttp<4.0.0,>=3.8.3->langchain-community<0.4.0,>=0.3.0->langchain-experimental) (25.3.0)\n",
            "Requirement already satisfied: frozenlist>=1.1.1 in /usr/local/lib/python3.11/dist-packages (from aiohttp<4.0.0,>=3.8.3->langchain-community<0.4.0,>=0.3.0->langchain-experimental) (1.6.0)\n",
            "Requirement already satisfied: multidict<7.0,>=4.5 in /usr/local/lib/python3.11/dist-packages (from aiohttp<4.0.0,>=3.8.3->langchain-community<0.4.0,>=0.3.0->langchain-experimental) (6.4.3)\n",
            "Requirement already satisfied: propcache>=0.2.0 in /usr/local/lib/python3.11/dist-packages (from aiohttp<4.0.0,>=3.8.3->langchain-community<0.4.0,>=0.3.0->langchain-experimental) (0.3.1)\n",
            "Requirement already satisfied: yarl<2.0,>=1.17.0 in /usr/local/lib/python3.11/dist-packages (from aiohttp<4.0.0,>=3.8.3->langchain-community<0.4.0,>=0.3.0->langchain-experimental) (1.20.0)\n",
            "Requirement already satisfied: marshmallow<4.0.0,>=3.18.0 in /usr/local/lib/python3.11/dist-packages (from dataclasses-json<0.7,>=0.5.7->langchain-community<0.4.0,>=0.3.0->langchain-experimental) (3.26.1)\n",
            "Requirement already satisfied: typing-inspect<1,>=0.4.0 in /usr/local/lib/python3.11/dist-packages (from dataclasses-json<0.7,>=0.5.7->langchain-community<0.4.0,>=0.3.0->langchain-experimental) (0.9.0)\n",
            "Requirement already satisfied: anyio in /usr/local/lib/python3.11/dist-packages (from httpx<1,>=0.23.0->langsmith<0.4,>=0.1.17->langchain) (4.9.0)\n",
            "Requirement already satisfied: httpcore==1.* in /usr/local/lib/python3.11/dist-packages (from httpx<1,>=0.23.0->langsmith<0.4,>=0.1.17->langchain) (1.0.9)\n",
            "Requirement already satisfied: h11>=0.16 in /usr/local/lib/python3.11/dist-packages (from httpcore==1.*->httpx<1,>=0.23.0->langsmith<0.4,>=0.1.17->langchain) (0.16.0)\n",
            "Requirement already satisfied: jsonpointer>=1.9 in /usr/local/lib/python3.11/dist-packages (from jsonpatch<2.0,>=1.33->langchain-core<1.0.0,>=0.3.58->langchain) (3.0.0)\n",
            "Requirement already satisfied: python-dotenv>=0.21.0 in /usr/local/lib/python3.11/dist-packages (from pydantic-settings<3.0.0,>=2.4.0->langchain-community<0.4.0,>=0.3.0->langchain-experimental) (1.1.0)\n",
            "Requirement already satisfied: MarkupSafe>=2.0 in /usr/local/lib/python3.11/dist-packages (from jinja2->torch>=1.11.0->sentence-transformers) (3.0.2)\n",
            "Requirement already satisfied: mypy-extensions>=0.3.0 in /usr/local/lib/python3.11/dist-packages (from typing-inspect<1,>=0.4.0->dataclasses-json<0.7,>=0.5.7->langchain-community<0.4.0,>=0.3.0->langchain-experimental) (1.1.0)\n",
            "Requirement already satisfied: sniffio>=1.1 in /usr/local/lib/python3.11/dist-packages (from anyio->httpx<1,>=0.23.0->langsmith<0.4,>=0.1.17->langchain) (1.3.1)\n"
          ]
        }
      ],
      "source": [
        "pip install -U langchain langchain-experimental sentence-transformers\n"
      ]
    },
    {
      "cell_type": "code",
      "execution_count": null,
      "metadata": {
        "id": "pqW8FeQUyErK"
      },
      "outputs": [],
      "source": [
        "from langchain_experimental.text_splitter import SemanticChunker\n",
        "from langchain_openai.embeddings import OpenAIEmbeddings"
      ]
    },
    {
      "cell_type": "code",
      "execution_count": null,
      "metadata": {
        "id": "0ZUTxuq4yrXR"
      },
      "outputs": [],
      "source": [
        "sementic_text_splitter = SemanticChunker(\n",
        "    OpenAIEmbeddings(model=\"text-embedding-3-small\"),\n",
        "    breakpoint_threshold_type=\"standard_deviation\",\n",
        "    breakpoint_threshold_amount=10\n",
        ")\n"
      ]
    },
    {
      "cell_type": "code",
      "execution_count": null,
      "metadata": {
        "id": "G3jIN32fy2_5"
      },
      "outputs": [],
      "source": [
        "docs = sementic_text_splitter.create_documents([transcript])"
      ]
    },
    {
      "cell_type": "code",
      "execution_count": null,
      "metadata": {
        "colab": {
          "base_uri": "https://localhost:8080/"
        },
        "id": "TvQ9vww5zBTd",
        "outputId": "a6240d43-7379-4667-d6f5-f092ad72c92c"
      },
      "outputs": [
        {
          "name": "stdout",
          "output_type": "stream",
          "text": [
            "1\n"
          ]
        }
      ],
      "source": [
        "print(len(docs))"
      ]
    },
    {
      "cell_type": "code",
      "execution_count": null,
      "metadata": {
        "id": "1xvbHOGMzBW_"
      },
      "outputs": [],
      "source": []
    },
    {
      "cell_type": "markdown",
      "metadata": {
        "id": "9ayigaWMEitm"
      },
      "source": [
        "Embedding Generation and Storing in Vector Store"
      ]
    },
    {
      "cell_type": "code",
      "execution_count": null,
      "metadata": {
        "id": "u2cB4yUEEh58"
      },
      "outputs": [],
      "source": [
        "embeddings = OpenAIEmbeddings(model=\"text-embedding-3-small\")"
      ]
    },
    {
      "cell_type": "code",
      "execution_count": null,
      "metadata": {
        "id": "cLArYiw9JOQh"
      },
      "outputs": [],
      "source": [
        "vector_store = FAISS.from_documents(chunks, embeddings)"
      ]
    },
    {
      "cell_type": "code",
      "execution_count": null,
      "metadata": {
        "colab": {
          "base_uri": "https://localhost:8080/"
        },
        "id": "MWrAlIdsKSlT",
        "outputId": "a2868c8b-de7b-45d2-ad64-4feb38bf2cd6"
      },
      "outputs": [
        {
          "data": {
            "text/plain": [
              "{0: 'ca1547d9-c423-4b57-b2e5-c44a18d24f2e',\n",
              " 1: 'a04c70f0-3ed5-4f32-9e22-b5abf85e62e6',\n",
              " 2: '9c5d6c7c-221c-4f7f-9338-dcc1e9caa477',\n",
              " 3: '8806e0db-924c-4d91-a3e3-62a455374199',\n",
              " 4: '6c4cf988-c047-4b85-ab31-6e1f0cb1cef8',\n",
              " 5: 'e9ff7ce5-63e3-4163-956b-60e3ebdcfa61',\n",
              " 6: '5ee57e89-9db6-493d-8ff9-2862cd81788a',\n",
              " 7: '2821462c-e529-4109-a88f-813829de3f8d',\n",
              " 8: '53114ce7-f75a-4cc3-a9f0-b1e4332bc8a9',\n",
              " 9: 'dfeea45d-0108-444e-8f88-b002d9b7696e',\n",
              " 10: 'e1fc1b6f-d460-4153-a34c-e48f87de63b2',\n",
              " 11: '8595dce8-438a-484f-87e4-3a13c03202ac',\n",
              " 12: '8434025e-a428-47b7-8a7b-1a28c156be83',\n",
              " 13: '460fec04-abf0-4c83-b2bf-4c16385ad413',\n",
              " 14: '6ffb7cdb-f643-468a-92bd-105f77c56f4b',\n",
              " 15: '975670bb-e03f-4c9c-aeae-6cb266605e03',\n",
              " 16: 'ad3633c8-1753-4bc4-827c-44a5f9d95130',\n",
              " 17: '30b683ed-504c-44cc-a69e-0fd2f897558c',\n",
              " 18: '7a70538a-215f-4156-9cba-d614bdc9016d',\n",
              " 19: 'c188acc7-4e88-4f02-a115-1b93e0e39b6f',\n",
              " 20: '8e810faf-6807-4817-a25c-84164a9f0a18',\n",
              " 21: '0dc17ed0-0aa9-40d8-8418-0952366049e9',\n",
              " 22: 'bc217d7f-4a07-4323-9212-e2ab10f56ded',\n",
              " 23: '2143f4d3-05fd-4453-a86a-2c21fb0fccab',\n",
              " 24: '049d93b8-f1b6-4d5a-a3d6-c84029a59312',\n",
              " 25: '3ecab995-2c9c-4787-b217-3e361a3458d5',\n",
              " 26: 'd4842714-3668-4789-8e8b-7a9a4730f595',\n",
              " 27: '24ba1c2c-4c0f-4208-b120-22f9a88eb672',\n",
              " 28: '17a079b6-c540-4645-bce6-116421c008aa',\n",
              " 29: '106b9bb9-2231-4e49-8256-e9a0408178b4',\n",
              " 30: '2040b3a7-bc20-42d0-9111-a0374f2e9704',\n",
              " 31: '647cd75b-7bfb-4098-952b-5173c046a481',\n",
              " 32: '9c3e1af9-2ddc-4a74-acc3-5f5066087015',\n",
              " 33: '6b8d2428-2b36-4de0-a9cb-beef43c60071',\n",
              " 34: 'dced2e89-e9ff-45e3-89ed-84fea523f2cd',\n",
              " 35: 'e8e776be-0884-4ff7-ab90-4c6e602f0799',\n",
              " 36: 'da013965-f159-4896-8d27-8065875eddae',\n",
              " 37: '6e5f12f7-f6ca-4337-bb5c-abca37108a51',\n",
              " 38: 'cc344bc6-d9c5-4743-92d8-8c4918893092',\n",
              " 39: 'cb510a05-7d38-4e12-ab9c-0b2274ddeba6',\n",
              " 40: '2109969c-4807-4147-9ee5-dd75ae49e4b9',\n",
              " 41: '8fa5cde1-22a9-458e-8312-ee5cc0908725',\n",
              " 42: '8c083949-1d49-44c1-8071-f21a830b5f0d',\n",
              " 43: '5a0c7ca7-363f-4449-910c-3a6cfdc0a161',\n",
              " 44: '56cb8099-acea-49e6-8605-ab75eb6a029d',\n",
              " 45: '8728d09c-f928-4f1b-9644-869dc1e996a5',\n",
              " 46: '06dc1a84-a9c1-41fc-a6d3-28580e5e52c7',\n",
              " 47: 'bab1d29d-1e58-4212-b15b-e735e1f5a3d0',\n",
              " 48: 'bcd4413f-02c0-474b-ab1a-83b8dbbb19fa',\n",
              " 49: '6c7d4b16-af0d-4cad-9d8a-a0f3a4215e80',\n",
              " 50: '00999f74-d783-48fe-a35a-19345c28b9ac',\n",
              " 51: '5a033935-670f-4636-8ab4-983532f76a7b',\n",
              " 52: 'c8ddf4e7-1bbf-40c9-8ec2-54ca715f1e5d',\n",
              " 53: '32cade95-9bf8-469e-9f1e-c1011bd733df',\n",
              " 54: 'd696b953-55d4-4cbd-9b33-9e72195561da',\n",
              " 55: '3c650d66-2eec-4f6f-a68d-4c32a58e4df7'}"
            ]
          },
          "execution_count": 49,
          "metadata": {},
          "output_type": "execute_result"
        }
      ],
      "source": [
        "vector_store.index_to_docstore_id"
      ]
    },
    {
      "cell_type": "code",
      "execution_count": null,
      "metadata": {
        "id": "SEsdo2j_KYa1"
      },
      "outputs": [],
      "source": []
    },
    {
      "cell_type": "markdown",
      "metadata": {
        "id": "jrQXQFaOKck_"
      },
      "source": [
        "Step 2 - Retrieval"
      ]
    },
    {
      "cell_type": "code",
      "execution_count": null,
      "metadata": {
        "id": "WITj2OerKc5e"
      },
      "outputs": [],
      "source": [
        "retriever = vector_store.as_retriever(search_type=\"mmr\", search_kwargs={\"k\": 3, \"fetch_k\": 50, \"lambda_mult\": 0.5})"
      ]
    },
    {
      "cell_type": "code",
      "execution_count": null,
      "metadata": {
        "colab": {
          "base_uri": "https://localhost:8080/"
        },
        "id": "YINad5_sKfCA",
        "outputId": "68d6c477-7a06-4891-cc6f-9ae2c7162e8a"
      },
      "outputs": [
        {
          "data": {
            "text/plain": [
              "[Document(id='00999f74-d783-48fe-a35a-19345c28b9ac', metadata={}, page_content=\"that our very ideas of space- time, what we mean by dimension, etc, as well as what we\\nmean by normal quantum mechanics I think, will undergo drastic revision. So it's a\\nhouse under construction. It looks like the existing frame work is not powerful enough\\nto do this. You could ask now what about experiment. That\\nwe lag far behind. The shortest distances we can probe are of the order of ten to the\\npower minus seventeen or eighteen. This is all we have been able to probe so far in the\\nhighest energy accelerators. There are sixteen orders of magnitude or seventeen orders of\\nmagnitude between these two. We don't know what hat can happen in there. Similarly, the shortest length scales we have\\nbeen able to probe which are of the order of 10 to the -- 23 seconds. There are twenty\\norders of magnitude in between. We don't know how things will change. So we keep an\\nopen mind completely. That's the whole point about physics. It's not mathematics. So\"),\n",
              " Document(id='647cd75b-7bfb-4098-952b-5173c046a481', metadata={}, page_content=\"orbit. That cannot be true. Because if that were true, you have this particle\\nhere with the center of attraction O and something moving at the Bohr radius a0, the orbital\\nangular momentum of this particle about the center of attraction cannot be zero. It's\\nnot going through the particle at all. So you calculate r cross p, it's supposed to\\nbe uniform circular motion and of course, the orbital angular momentum is non-zero.\\nBut at the same breath you are told that in the ground state of the hydrogen atom, l = 0.You\\nhave the hydrogen atom in which you described the state of the electron by a principle quantum\\nnumber m, orbital angular momentum quantum number l and the magnetic quantum number m,\\nthen in the ground state i.e. the lowest energy state, n = 1, l = 0 and m = 0. And you are also told that if you look at\\nthe component of the orbital angular momentum perpendicular to the plane of the orbit, it's\\nl times h cross. But if l is 0, that is zero. That cannot be true if it's orbiting at\"),\n",
              " Document(id='8434025e-a428-47b7-8a7b-1a28c156be83', metadata={}, page_content=\"device with an arbitrarily good least count, I can measure position to arbitrary accuracy.\\nSo what do you mean by delta x? I make many measurements and take the standard\\ndeviation of them but I can still improve the standard deviation by making many more\\nmeasurements. Thus we come to the fact that it's not definable with arbitrary precision.\\nA particle of this kind we are talking about, cannot have a sharp value of its position\\nand its conjugate momentum, be it any state of the particle. So it has nothing to do with\\nthe precision of the ruler or your experimental measuring device. This is well beyond all\\nthat. The quantity delta x is a standard deviation. So it says that you take your measuring device,\\nno matter how accurate it is and continue making these measurements. You would still\\nfind a standard deviation no matter how many measurements you make and that standard deviation\\nis delta x. Now obviously you need a calculational device\")]"
            ]
          },
          "execution_count": 51,
          "metadata": {},
          "output_type": "execute_result"
        }
      ],
      "source": [
        "retriever.invoke('What is burj khalifa?')"
      ]
    },
    {
      "cell_type": "code",
      "execution_count": null,
      "metadata": {
        "id": "iZUSU94CNDNG"
      },
      "outputs": [],
      "source": []
    },
    {
      "cell_type": "markdown",
      "metadata": {
        "id": "uj2OOIXnNLk5"
      },
      "source": [
        "Step 3 - Augmentation"
      ]
    },
    {
      "cell_type": "code",
      "execution_count": null,
      "metadata": {
        "id": "oMj6nCvxNL6M"
      },
      "outputs": [],
      "source": [
        "llm = ChatOpenAI(model=\"gpt-4o-mini\", temperature=0.2)"
      ]
    },
    {
      "cell_type": "code",
      "execution_count": null,
      "metadata": {
        "id": "JkILRbGkNNVC"
      },
      "outputs": [],
      "source": [
        "prompt = PromptTemplate(\n",
        "    template=\"\"\"\n",
        "      You are a helpful assistant.\n",
        "      Answer ONLY from the provided transcript context.\n",
        "      If the context is insufficient, just say you don't know.\n",
        "\n",
        "      {context}\n",
        "      Question: {question}\n",
        "    \"\"\",\n",
        "    input_variables = ['context', 'question']\n",
        ")"
      ]
    },
    {
      "cell_type": "code",
      "execution_count": null,
      "metadata": {
        "id": "W_8ClRd3NQc3"
      },
      "outputs": [],
      "source": [
        "question          = \"is the topic of nuclear fusion discussed in this video? if yes then what was discussed\"\n",
        "retrieved_docs    = retriever.invoke(question)"
      ]
    },
    {
      "cell_type": "code",
      "execution_count": null,
      "metadata": {
        "colab": {
          "base_uri": "https://localhost:8080/"
        },
        "id": "CberS2vGNSzl",
        "outputId": "af718312-82fb-45c6-a0f6-456cb8b7083e"
      },
      "outputs": [
        {
          "data": {
            "text/plain": [
              "[Document(id='3c650d66-2eec-4f6f-a68d-4c32a58e4df7', metadata={}, page_content=\"and the way it's set up is not satisfying. So it already looks like there are big black\\nboxes in it which we have pushed under the rug but they exist nevertheless. We have not\\nunderstood quantum non-locality. Except in some mathematical form of a framework, we\\nprove our satisfaction. It really hasn't come to grips with the meaning of measurement.\\nNow what happens to a system when you measure it? So there are large gaps conceptual gaps\\nhere. So it's clear it's an incomplete theory in that sense at least that understanding\\nis not as deep as we would like it to be the framework of quantum mechanics. You could\\nask may be this is the best you can do how do you know we don't know that too we don't\\nknow but we have to keep pushing so today has been a sort of general talk. We will start\\nof with some specific issues and so on next time.\"),\n",
              " Document(id='647cd75b-7bfb-4098-952b-5173c046a481', metadata={}, page_content=\"orbit. That cannot be true. Because if that were true, you have this particle\\nhere with the center of attraction O and something moving at the Bohr radius a0, the orbital\\nangular momentum of this particle about the center of attraction cannot be zero. It's\\nnot going through the particle at all. So you calculate r cross p, it's supposed to\\nbe uniform circular motion and of course, the orbital angular momentum is non-zero.\\nBut at the same breath you are told that in the ground state of the hydrogen atom, l = 0.You\\nhave the hydrogen atom in which you described the state of the electron by a principle quantum\\nnumber m, orbital angular momentum quantum number l and the magnetic quantum number m,\\nthen in the ground state i.e. the lowest energy state, n = 1, l = 0 and m = 0. And you are also told that if you look at\\nthe component of the orbital angular momentum perpendicular to the plane of the orbit, it's\\nl times h cross. But if l is 0, that is zero. That cannot be true if it's orbiting at\"),\n",
              " Document(id='8728d09c-f928-4f1b-9644-869dc1e996a5', metadata={}, page_content='G. These are the fundamental constants of nature. These are the most basic constants\\nof nature. Actually, there are just two of them. We could really say h cross and c. we\\ncould set equal one and say they are fundamental. These are really basic choice of units and\\nthere is only G. but quite apart from that, you have these three fundamental constants\\nof nature. You can construct from them, quantities of dimensions; mass, length and time, by taking\\nsuitable combinations of h, c and G. So I request to do this. In combinations of h to\\nthe power alpha, G to the power beta, c to the power gamma, find alpha, beta and gamma\\nsuch that, you get a length or a mass or a time and these are the Planck mass, Planck\\nlength, Planck time, etc. Now clearly, those would be the natural length\\nscales and time scales, when gravity as well as quantum mechanics will play a role because\\ngravity is represented by this and quantum mechanics by that. And it turns out that the')]"
            ]
          },
          "execution_count": 55,
          "metadata": {},
          "output_type": "execute_result"
        }
      ],
      "source": [
        "retrieved_docs"
      ]
    },
    {
      "cell_type": "code",
      "execution_count": null,
      "metadata": {
        "colab": {
          "base_uri": "https://localhost:8080/",
          "height": 109
        },
        "id": "j5CR_BxLNU3n",
        "outputId": "ef6bedf6-8c69-48c3-85f4-c4757d4683b9"
      },
      "outputs": [
        {
          "data": {
            "application/vnd.google.colaboratory.intrinsic+json": {
              "type": "string"
            },
            "text/plain": [
              "\"and the way it's set up is not satisfying. So it already looks like there are big black\\nboxes in it which we have pushed under the rug but they exist nevertheless. We have not\\nunderstood quantum non-locality. Except in some mathematical form of a framework, we\\nprove our satisfaction. It really hasn't come to grips with the meaning of measurement.\\nNow what happens to a system when you measure it? So there are large gaps conceptual gaps\\nhere. So it's clear it's an incomplete theory in that sense at least that understanding\\nis not as deep as we would like it to be the framework of quantum mechanics. You could\\nask may be this is the best you can do how do you know we don't know that too we don't\\nknow but we have to keep pushing so today has been a sort of general talk. We will start\\nof with some specific issues and so on next time.\\n\\norbit. That cannot be true. Because if that were true, you have this particle\\nhere with the center of attraction O and something moving at the Bohr radius a0, the orbital\\nangular momentum of this particle about the center of attraction cannot be zero. It's\\nnot going through the particle at all. So you calculate r cross p, it's supposed to\\nbe uniform circular motion and of course, the orbital angular momentum is non-zero.\\nBut at the same breath you are told that in the ground state of the hydrogen atom, l = 0.You\\nhave the hydrogen atom in which you described the state of the electron by a principle quantum\\nnumber m, orbital angular momentum quantum number l and the magnetic quantum number m,\\nthen in the ground state i.e. the lowest energy state, n = 1, l = 0 and m = 0. And you are also told that if you look at\\nthe component of the orbital angular momentum perpendicular to the plane of the orbit, it's\\nl times h cross. But if l is 0, that is zero. That cannot be true if it's orbiting at\\n\\nG. These are the fundamental constants of nature. These are the most basic constants\\nof nature. Actually, there are just two of them. We could really say h cross and c. we\\ncould set equal one and say they are fundamental. These are really basic choice of units and\\nthere is only G. but quite apart from that, you have these three fundamental constants\\nof nature. You can construct from them, quantities of dimensions; mass, length and time, by taking\\nsuitable combinations of h, c and G. So I request to do this. In combinations of h to\\nthe power alpha, G to the power beta, c to the power gamma, find alpha, beta and gamma\\nsuch that, you get a length or a mass or a time and these are the Planck mass, Planck\\nlength, Planck time, etc. Now clearly, those would be the natural length\\nscales and time scales, when gravity as well as quantum mechanics will play a role because\\ngravity is represented by this and quantum mechanics by that. And it turns out that the\""
            ]
          },
          "execution_count": 56,
          "metadata": {},
          "output_type": "execute_result"
        }
      ],
      "source": [
        "context_text = \"\\n\\n\".join(doc.page_content for doc in retrieved_docs)\n",
        "context_text"
      ]
    },
    {
      "cell_type": "code",
      "execution_count": null,
      "metadata": {
        "id": "93penszrNoyR"
      },
      "outputs": [],
      "source": [
        "final_prompt = prompt.invoke({\"context\": context_text, \"question\": question})"
      ]
    },
    {
      "cell_type": "code",
      "execution_count": null,
      "metadata": {
        "colab": {
          "base_uri": "https://localhost:8080/"
        },
        "id": "Hpve4KIdNqbp",
        "outputId": "50f64812-8c25-40b6-b862-b7d4b7a0c40f"
      },
      "outputs": [
        {
          "data": {
            "text/plain": [
              "StringPromptValue(text=\"\\n      You are a helpful assistant.\\n      Answer ONLY from the provided transcript context.\\n      If the context is insufficient, just say you don't know.\\n\\n      and the way it's set up is not satisfying. So it already looks like there are big black\\nboxes in it which we have pushed under the rug but they exist nevertheless. We have not\\nunderstood quantum non-locality. Except in some mathematical form of a framework, we\\nprove our satisfaction. It really hasn't come to grips with the meaning of measurement.\\nNow what happens to a system when you measure it? So there are large gaps conceptual gaps\\nhere. So it's clear it's an incomplete theory in that sense at least that understanding\\nis not as deep as we would like it to be the framework of quantum mechanics. You could\\nask may be this is the best you can do how do you know we don't know that too we don't\\nknow but we have to keep pushing so today has been a sort of general talk. We will start\\nof with some specific issues and so on next time.\\n\\norbit. That cannot be true. Because if that were true, you have this particle\\nhere with the center of attraction O and something moving at the Bohr radius a0, the orbital\\nangular momentum of this particle about the center of attraction cannot be zero. It's\\nnot going through the particle at all. So you calculate r cross p, it's supposed to\\nbe uniform circular motion and of course, the orbital angular momentum is non-zero.\\nBut at the same breath you are told that in the ground state of the hydrogen atom, l = 0.You\\nhave the hydrogen atom in which you described the state of the electron by a principle quantum\\nnumber m, orbital angular momentum quantum number l and the magnetic quantum number m,\\nthen in the ground state i.e. the lowest energy state, n = 1, l = 0 and m = 0. And you are also told that if you look at\\nthe component of the orbital angular momentum perpendicular to the plane of the orbit, it's\\nl times h cross. But if l is 0, that is zero. That cannot be true if it's orbiting at\\n\\nG. These are the fundamental constants of nature. These are the most basic constants\\nof nature. Actually, there are just two of them. We could really say h cross and c. we\\ncould set equal one and say they are fundamental. These are really basic choice of units and\\nthere is only G. but quite apart from that, you have these three fundamental constants\\nof nature. You can construct from them, quantities of dimensions; mass, length and time, by taking\\nsuitable combinations of h, c and G. So I request to do this. In combinations of h to\\nthe power alpha, G to the power beta, c to the power gamma, find alpha, beta and gamma\\nsuch that, you get a length or a mass or a time and these are the Planck mass, Planck\\nlength, Planck time, etc. Now clearly, those would be the natural length\\nscales and time scales, when gravity as well as quantum mechanics will play a role because\\ngravity is represented by this and quantum mechanics by that. And it turns out that the\\n      Question: is the topic of nuclear fusion discussed in this video? if yes then what was discussed\\n    \")"
            ]
          },
          "execution_count": 58,
          "metadata": {},
          "output_type": "execute_result"
        }
      ],
      "source": [
        "final_prompt"
      ]
    },
    {
      "cell_type": "code",
      "execution_count": null,
      "metadata": {
        "id": "1JP1EbEcNrmt"
      },
      "outputs": [],
      "source": []
    },
    {
      "cell_type": "markdown",
      "metadata": {
        "id": "QJUjElz5N8Xt"
      },
      "source": [
        "Step 4 - Generation"
      ]
    },
    {
      "cell_type": "code",
      "execution_count": null,
      "metadata": {
        "colab": {
          "base_uri": "https://localhost:8080/"
        },
        "id": "NWwvZ7rzN8xB",
        "outputId": "36296d62-5dc5-4adb-af1d-770c7ab5ede9"
      },
      "outputs": [
        {
          "name": "stdout",
          "output_type": "stream",
          "text": [
            "I don't know.\n"
          ]
        }
      ],
      "source": [
        "answer = llm.invoke(final_prompt)\n",
        "print(answer.content)"
      ]
    },
    {
      "cell_type": "code",
      "execution_count": null,
      "metadata": {
        "id": "civn_S9dN-J6"
      },
      "outputs": [],
      "source": [
        "from langchain_core.runnables import RunnableParallel, RunnablePassthrough, RunnableLambda\n",
        "from langchain_core.output_parsers import StrOutputParser"
      ]
    },
    {
      "cell_type": "code",
      "execution_count": null,
      "metadata": {
        "id": "QxUkz34VOC7C"
      },
      "outputs": [],
      "source": [
        "def format_docs(retrieved_docs):\n",
        "  context_text = \"\\n\\n\".join(doc.page_content for doc in retrieved_docs)\n",
        "  return context_text"
      ]
    },
    {
      "cell_type": "code",
      "execution_count": null,
      "metadata": {
        "id": "rwuki6Q_OELq"
      },
      "outputs": [],
      "source": [
        "parallel_chain = RunnableParallel({\n",
        "    'context': retriever | RunnableLambda(format_docs),\n",
        "    'question': RunnablePassthrough()\n",
        "})"
      ]
    },
    {
      "cell_type": "code",
      "execution_count": null,
      "metadata": {
        "id": "lPiLdv9hOFRz"
      },
      "outputs": [],
      "source": [
        "parser = StrOutputParser()"
      ]
    },
    {
      "cell_type": "code",
      "execution_count": null,
      "metadata": {
        "id": "x8qnaf_EOHua"
      },
      "outputs": [],
      "source": [
        "main_chain = parallel_chain | prompt | llm | parser"
      ]
    },
    {
      "cell_type": "code",
      "execution_count": null,
      "metadata": {
        "colab": {
          "base_uri": "https://localhost:8080/",
          "height": 36
        },
        "id": "P16W6lucOJGs",
        "outputId": "7c49a340-cff0-4565-afa2-3e0230a1fd41"
      },
      "outputs": [
        {
          "data": {
            "application/vnd.google.colaboratory.intrinsic+json": {
              "type": "string"
            },
            "text/plain": [
              "\"I don't know.\""
            ]
          },
          "execution_count": 65,
          "metadata": {},
          "output_type": "execute_result"
        }
      ],
      "source": [
        "main_chain.invoke('does they talk about the facebook ? ')"
      ]
    },
    {
      "cell_type": "code",
      "execution_count": null,
      "metadata": {
        "id": "4kVk6B1sOKic"
      },
      "outputs": [],
      "source": [
        "from langchain_core.messages import SystemMessage, HumanMessage , AIMessage\n",
        "chat_history = [\n",
        "    SystemMessage(content = \"You are a helpful coder\"),\n",
        "]"
      ]
    },
    {
      "cell_type": "code",
      "execution_count": null,
      "metadata": {
        "colab": {
          "background_save": true,
          "base_uri": "https://localhost:8080/"
        },
        "id": "ORwKXq2MJIN9",
        "outputId": "c22a5f7c-7b16-44e8-d419-512c63b53425"
      },
      "outputs": [
        {
          "name": "stdout",
          "output_type": "stream",
          "text": [
            "Ask your questions below. Type 'exit' to stop.\n",
            "\n",
            "AI: The mathematical formulation of Heisenberg's uncertainty principle states that the product of the uncertainties in a pair of canonically conjugate variables, such as position (Δr) and momentum (Δpr), is greater than or equal to a constant. Specifically, it can be expressed as:\n",
            "\n",
            "Δr * Δpr ≥ ℏ / 2\n",
            "\n",
            "where ℏ (h cross) is the reduced Planck's constant. This principle indicates that you cannot simultaneously measure both variables with arbitrary precision.\n",
            "\n"
          ]
        }
      ],
      "source": [
        "print(\"Ask your questions below. Type 'exit' to stop.\\n\")\n",
        "\n",
        "while True:\n",
        "    question = input(\"You: \")\n",
        "    if question.lower() in [\"exit\", \"quit\"]:\n",
        "        break\n",
        "    result = main_chain.invoke(question)\n",
        "    print(f\"AI: {result}\\n\")\n"
      ]
    },
    {
      "cell_type": "code",
      "execution_count": null,
      "metadata": {
        "id": "7qXfEl3zJn9M"
      },
      "outputs": [],
      "source": []
    }
  ],
  "metadata": {
    "colab": {
      "provenance": [],
      "authorship_tag": "ABX9TyNR6sB07mFm+AqozdAeA4oy",
      "include_colab_link": true
    },
    "kernelspec": {
      "display_name": "Python 3",
      "name": "python3"
    },
    "language_info": {
      "name": "python"
    }
  },
  "nbformat": 4,
  "nbformat_minor": 0
}